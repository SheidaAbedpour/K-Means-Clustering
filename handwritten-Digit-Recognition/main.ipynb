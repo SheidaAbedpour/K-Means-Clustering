{
 "cells": [
  {
   "cell_type": "code",
   "execution_count": 1,
   "metadata": {
    "pycharm": {
     "name": "#%%\n"
    }
   },
   "outputs": [],
   "source": [
    "import numpy as np\n",
    "import matplotlib.pyplot as plt\n",
    "import math\n",
    "import copy\n",
    "from PIL import Image\n",
    "import os\n",
    "\n",
    "%matplotlib inline"
   ]
  },
  {
   "cell_type": "code",
   "execution_count": 2,
   "metadata": {
    "pycharm": {
     "name": "#%%\n"
    }
   },
   "outputs": [],
   "source": [
    "original_images = []\n",
    "addresses = ['usps_1.jpg', 'usps_2.jpg', 'usps_3.jpg', 'usps_4.jpg', 'usps_5.jpg']\n",
    "\n",
    "for i in range(len(addresses)):\n",
    "    original_images.append(plt.imread(addresses[i]))"
   ]
  },
  {
   "cell_type": "code",
   "execution_count": 3,
   "metadata": {
    "pycharm": {
     "name": "#%%\n"
    }
   },
   "outputs": [
    {
     "name": "stdout",
     "output_type": "stream",
     "text": [
      "r:  34  column:  33\n"
     ]
    }
   ],
   "source": [
    "row = int(original_images[0].shape[0] / 16)\n",
    "column = int(original_images[0].shape[1] / 16)\n",
    "\n",
    "print(\"r: \", row, \" column: \", column)"
   ]
  },
  {
   "cell_type": "code",
   "execution_count": 4,
   "metadata": {
    "pycharm": {
     "name": "#%%\n"
    }
   },
   "outputs": [
    {
     "name": "stdout",
     "output_type": "stream",
     "text": [
      "(256,)\n"
     ]
    }
   ],
   "source": [
    "d = 16\n",
    "X_list = []\n",
    "for img in original_images:\n",
    "    for i in range(row):\n",
    "        for j in range(column):\n",
    "            img_digit_one = img[i * d: (i + 1) * d, j * d: (j + 1) * d]\n",
    "            x = img_digit_one.reshape(1,-1)\n",
    "            if not ((i > 11) and (j == column - 1)):\n",
    "                X_list.append(x)\n",
    "X = np.concatenate(X_list, axis=0)\n",
    "print(X[0].shape)"
   ]
  },
  {
   "cell_type": "code",
   "execution_count": 5,
   "metadata": {
    "pycharm": {
     "name": "#%%\n"
    }
   },
   "outputs": [],
   "source": [
    "def L2_norm(A, B):\n",
    "    norm = 0.0\n",
    "    n = len(A)\n",
    "\n",
    "    for i in range(n):\n",
    "        norm += (A[i] - B[i]) ** 2\n",
    "\n",
    "    return norm"
   ]
  },
  {
   "cell_type": "code",
   "execution_count": 6,
   "metadata": {
    "pycharm": {
     "name": "#%%\n"
    }
   },
   "outputs": [],
   "source": [
    "def closest_centroid(X, centroids):\n",
    "    \"\"\"\n",
    "    Computes the centroid memberships for every example\n",
    "\n",
    "    Args:\n",
    "        X (ndarray): (m, n) Input values\n",
    "        centroids (ndarray): (K, n) centroids\n",
    "\n",
    "    Returns:\n",
    "        idx (array_like): (m,) closest centroids\n",
    "\n",
    "    \"\"\"\n",
    "    idx = np.zeros(X.shape[0], dtype = int)\n",
    "\n",
    "    for i in range(X.shape[0]):\n",
    "        min_distance = math.inf\n",
    "        cluster = -1\n",
    "        for j in range(centroids.shape[0]):\n",
    "            L2_norm = np.linalg.norm(X[i] - centroids[j])\n",
    "            if L2_norm < min_distance:\n",
    "                min_distance = L2_norm\n",
    "                cluster = j\n",
    "        idx[i] = cluster\n",
    "\n",
    "    return idx"
   ]
  },
  {
   "cell_type": "code",
   "execution_count": 7,
   "metadata": {
    "pycharm": {
     "name": "#%%\n"
    }
   },
   "outputs": [],
   "source": [
    "def compute_centroids(X, idx, K):\n",
    "    \"\"\"\n",
    "    Returns the new centroids by computing the means of the\n",
    "    data points assigned to each centroid.\n",
    "\n",
    "    Args:\n",
    "        X (ndarray):   (m, n) Data points\n",
    "        idx (ndarray): (m,) Array containing index of closest centroid for each\n",
    "                       example in X. Concretely, idx[i] contains the index of\n",
    "                       the centroid closest to example i\n",
    "        K (int):       number of centroids\n",
    "\n",
    "    Returns:\n",
    "        centroids (ndarray): (K, n) New centroids computed\n",
    "    \"\"\"\n",
    "    centroids = np.zeros((K, X.shape[1]))\n",
    "\n",
    "    for k in range(K):\n",
    "        points_cluster_k = X[idx == k]\n",
    "        centroids[k] = np.mean(points_cluster_k, axis=0)\n",
    "\n",
    "    return centroids"
   ]
  },
  {
   "cell_type": "code",
   "execution_count": 8,
   "metadata": {
    "pycharm": {
     "name": "#%%\n"
    }
   },
   "outputs": [],
   "source": [
    "def k_means(X, initial_centroids, num_iterations):\n",
    "    \"\"\"\n",
    "    This functions clusters inputs\n",
    "\n",
    "    Args:\n",
    "        X (ndarray):    (m, n) Data points\n",
    "        initial_centroids(ndarray):  (k, n)\n",
    "        num_iterations(int):    max iterations to run k-means\n",
    "\n",
    "    Returns:\n",
    "        idx(ndarray):   (m,)  shows id of each x's cluster\n",
    "        centroids(ndarray): (k, n)  centroids computed\n",
    "    \"\"\"\n",
    "    m, n = X.shape\n",
    "    K = initial_centroids.shape[0]\n",
    "    centroids = copy.deepcopy(initial_centroids)\n",
    "    idx = np.ndarray((m,))\n",
    "\n",
    "    for i in range(num_iterations):\n",
    "        idx = closest_centroid(X, centroids)\n",
    "        new_centroids = compute_centroids(X, idx, K)\n",
    "        if np.array_equal(new_centroids, centroids):\n",
    "            break\n",
    "        centroids = np.copy(new_centroids)\n",
    "\n",
    "    return idx, centroids"
   ]
  },
  {
   "cell_type": "code",
   "execution_count": 9,
   "metadata": {
    "pycharm": {
     "name": "#%%\n"
    }
   },
   "outputs": [],
   "source": [
    "def kMeans_init_centroids(X, K):\n",
    "    \"\"\"\n",
    "    This function initializes K centroids that are to be\n",
    "    used in K-Means on the dataset X\n",
    "\n",
    "    Args:\n",
    "        X (ndarray): Data points\n",
    "        K (int):     number of centroids/clusters\n",
    "\n",
    "    Returns:\n",
    "        centroids (ndarray): Initialized centroids\n",
    "    \"\"\"\n",
    "\n",
    "    randidx = np.random.permutation(X.shape[0])\n",
    "    centroids = X[randidx[:K]]\n",
    "\n",
    "    return centroids"
   ]
  },
  {
   "cell_type": "code",
   "execution_count": 10,
   "metadata": {
    "pycharm": {
     "name": "#%%\n"
    }
   },
   "outputs": [],
   "source": [
    "def show(image_list):\n",
    "    num_images = len(image_list)\n",
    "    num_cols = 10\n",
    "    num_rows = num_images // num_cols + (num_images % num_cols > 0)\n",
    "\n",
    "    fig, axes = plt.subplots(num_rows, num_cols, figsize=(10, 10))\n",
    "\n",
    "    plt.gray() \n",
    "    for i, ax in enumerate(axes.flat):\n",
    "        if i < num_images:\n",
    "            ax.imshow(image_list[i].reshape(16, 16))\n",
    "            ax.axis('off')\n",
    "        else:\n",
    "            ax.axis('off')\n",
    "\n",
    "    plt.tight_layout()\n",
    "    plt.show()"
   ]
  },
  {
   "cell_type": "code",
   "execution_count": 11,
   "outputs": [],
   "source": [
    "def save_img_centroids(centroids, k):\n",
    "    i = 1\n",
    "    for centroid in centroids:\n",
    "        img = Image.fromarray((centroid.reshape(16,16)).astype(np.uint8))\n",
    "        directory = f\"Results/k{k}/centroid{i}\"\n",
    "        if not os.path.exists(directory):\n",
    "            os.makedirs(directory)\n",
    "        img.save(f\"Results/k{k}/centroid{i}/centroid{i}.jpg\")\n",
    "        i += 1"
   ],
   "metadata": {
    "collapsed": false,
    "pycharm": {
     "name": "#%%\n"
    }
   }
  },
  {
   "cell_type": "code",
   "execution_count": 12,
   "outputs": [],
   "source": [
    "def save_img_examples(centroid_id, idx_k, k, num):\n",
    "    elements = X[idx_k == centroid_id]\n",
    "    n = len(elements)\n",
    "    for i in range(num):\n",
    "        img = Image.fromarray((elements[int((i * n) / num)].reshape(16,16)).astype(np.uint8))\n",
    "        img.save(f\"Results/k{k}/centroid{centroid_id + 1}/example{i + 1}.jpg\")"
   ],
   "metadata": {
    "collapsed": false,
    "pycharm": {
     "name": "#%%\n"
    }
   }
  },
  {
   "cell_type": "code",
   "execution_count": 13,
   "outputs": [],
   "source": [
    "max_iterations = 1000\n",
    "k_list = {3, 4, 5, 6, 7}\n",
    "for k in k_list:\n",
    "    initial_centroids = kMeans_init_centroids(X, k)\n",
    "    idx, centroids = k_means(X, initial_centroids, max_iterations)\n",
    "    save_img_centroids(centroids, k)\n",
    "    for c_id in range(k):\n",
    "        save_img_examples(c_id, idx, k, 5)"
   ],
   "metadata": {
    "collapsed": false,
    "pycharm": {
     "name": "#%%\n"
    }
   }
  },
  {
   "cell_type": "code",
   "execution_count": 13,
   "outputs": [],
   "source": [],
   "metadata": {
    "collapsed": false,
    "pycharm": {
     "name": "#%%\n"
    }
   }
  }
 ],
 "metadata": {
  "kernelspec": {
   "display_name": "Python 3 (ipykernel)",
   "language": "python",
   "name": "python3"
  },
  "language_info": {
   "codemirror_mode": {
    "name": "ipython",
    "version": 3
   },
   "file_extension": ".py",
   "mimetype": "text/x-python",
   "name": "python",
   "nbconvert_exporter": "python",
   "pygments_lexer": "ipython3",
   "version": "3.10.13"
  }
 },
 "nbformat": 4,
 "nbformat_minor": 1
}