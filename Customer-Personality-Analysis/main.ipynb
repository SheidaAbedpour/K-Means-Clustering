{
 "cells": [
  {
   "cell_type": "code",
   "execution_count": 2,
   "outputs": [
    {
     "data": {
      "text/plain": "'\"\"\\nReferences:\\n    https://gtraskas.github.io/post/ex7/\\n'"
     },
     "execution_count": 2,
     "metadata": {},
     "output_type": "execute_result"
    }
   ],
   "source": [
    "\"\"\"\"\"\n",
    "References:\n",
    "    https://gtraskas.github.io/post/ex7/\n",
    "\"\"\"\"\""
   ],
   "metadata": {
    "collapsed": false,
    "pycharm": {
     "name": "#%%\n"
    }
   }
  },
  {
   "cell_type": "code",
   "execution_count": 3,
   "outputs": [],
   "source": [
    "import numpy as np\n",
    "import pandas as pd\n",
    "import sklearn\n",
    "from sklearn.preprocessing import StandardScaler\n",
    "import matplotlib.pyplot as plt\n",
    "from datetime import datetime, date\n",
    "import copy\n",
    "import math"
   ],
   "metadata": {
    "collapsed": false,
    "pycharm": {
     "name": "#%%\n"
    }
   }
  },
  {
   "cell_type": "code",
   "execution_count": 4,
   "metadata": {
    "collapsed": false,
    "jupyter": {
     "outputs_hidden": false
    },
    "pycharm": {
     "name": "#%%\n"
    }
   },
   "outputs": [
    {
     "data": {
      "text/plain": "      Year_Birth   Education Marital_Status   Income  Kidhome  Teenhome  \\\n0           1957  Graduation         Single  58138.0        0         0   \n1           1954  Graduation         Single  46344.0        1         1   \n2           1965  Graduation       Together  71613.0        0         0   \n3           1984  Graduation       Together  26646.0        1         0   \n4           1981         PhD        Married  58293.0        1         0   \n...          ...         ...            ...      ...      ...       ...   \n2211        1967  Graduation        Married  61223.0        0         1   \n2212        1946         PhD       Together  64014.0        2         1   \n2213        1981  Graduation       Divorced  56981.0        0         0   \n2214        1956      Master       Together  69245.0        0         1   \n2215        1954         PhD        Married  52869.0        1         1   \n\n     Dt_Customer  Recency  MntFruits  MntMeatProducts  ...  \\\n0     04-09-2012       58         88              546  ...   \n1     08-03-2014       38          1                6  ...   \n2     21-08-2013       26         49              127  ...   \n3     10-02-2014       26          4               20  ...   \n4     19-01-2014       94         43              118  ...   \n...          ...      ...        ...              ...  ...   \n2211  13-06-2013       46         43              182  ...   \n2212  10-06-2014       56          0               30  ...   \n2213  25-01-2014       91         48              217  ...   \n2214  24-01-2014        8         30              214  ...   \n2215  15-10-2012       40          3               61  ...   \n\n      NumCatalogPurchases  NumStorePurchases  NumWebVisitsMonth  AcceptedCmp3  \\\n0                      10                  4                  7             0   \n1                       1                  2                  5             0   \n2                       2                 10                  4             0   \n3                       0                  4                  6             0   \n4                       3                  6                  5             0   \n...                   ...                ...                ...           ...   \n2211                    3                  4                  5             0   \n2212                    2                  5                  7             0   \n2213                    3                 13                  6             0   \n2214                    5                 10                  3             0   \n2215                    1                  4                  7             0   \n\n      AcceptedCmp4  AcceptedCmp5  AcceptedCmp1  AcceptedCmp2  Complain  \\\n0                0             0             0             0         0   \n1                0             0             0             0         0   \n2                0             0             0             0         0   \n3                0             0             0             0         0   \n4                0             0             0             0         0   \n...            ...           ...           ...           ...       ...   \n2211             0             0             0             0         0   \n2212             0             0             1             0         0   \n2213             1             0             0             0         0   \n2214             0             0             0             0         0   \n2215             0             0             0             0         0   \n\n      Response  \n0            1  \n1            0  \n2            0  \n3            0  \n4            0  \n...        ...  \n2211         0  \n2212         0  \n2213         0  \n2214         0  \n2215         1  \n\n[2216 rows x 25 columns]",
      "text/html": "<div>\n<style scoped>\n    .dataframe tbody tr th:only-of-type {\n        vertical-align: middle;\n    }\n\n    .dataframe tbody tr th {\n        vertical-align: top;\n    }\n\n    .dataframe thead th {\n        text-align: right;\n    }\n</style>\n<table border=\"1\" class=\"dataframe\">\n  <thead>\n    <tr style=\"text-align: right;\">\n      <th></th>\n      <th>Year_Birth</th>\n      <th>Education</th>\n      <th>Marital_Status</th>\n      <th>Income</th>\n      <th>Kidhome</th>\n      <th>Teenhome</th>\n      <th>Dt_Customer</th>\n      <th>Recency</th>\n      <th>MntFruits</th>\n      <th>MntMeatProducts</th>\n      <th>...</th>\n      <th>NumCatalogPurchases</th>\n      <th>NumStorePurchases</th>\n      <th>NumWebVisitsMonth</th>\n      <th>AcceptedCmp3</th>\n      <th>AcceptedCmp4</th>\n      <th>AcceptedCmp5</th>\n      <th>AcceptedCmp1</th>\n      <th>AcceptedCmp2</th>\n      <th>Complain</th>\n      <th>Response</th>\n    </tr>\n  </thead>\n  <tbody>\n    <tr>\n      <th>0</th>\n      <td>1957</td>\n      <td>Graduation</td>\n      <td>Single</td>\n      <td>58138.0</td>\n      <td>0</td>\n      <td>0</td>\n      <td>04-09-2012</td>\n      <td>58</td>\n      <td>88</td>\n      <td>546</td>\n      <td>...</td>\n      <td>10</td>\n      <td>4</td>\n      <td>7</td>\n      <td>0</td>\n      <td>0</td>\n      <td>0</td>\n      <td>0</td>\n      <td>0</td>\n      <td>0</td>\n      <td>1</td>\n    </tr>\n    <tr>\n      <th>1</th>\n      <td>1954</td>\n      <td>Graduation</td>\n      <td>Single</td>\n      <td>46344.0</td>\n      <td>1</td>\n      <td>1</td>\n      <td>08-03-2014</td>\n      <td>38</td>\n      <td>1</td>\n      <td>6</td>\n      <td>...</td>\n      <td>1</td>\n      <td>2</td>\n      <td>5</td>\n      <td>0</td>\n      <td>0</td>\n      <td>0</td>\n      <td>0</td>\n      <td>0</td>\n      <td>0</td>\n      <td>0</td>\n    </tr>\n    <tr>\n      <th>2</th>\n      <td>1965</td>\n      <td>Graduation</td>\n      <td>Together</td>\n      <td>71613.0</td>\n      <td>0</td>\n      <td>0</td>\n      <td>21-08-2013</td>\n      <td>26</td>\n      <td>49</td>\n      <td>127</td>\n      <td>...</td>\n      <td>2</td>\n      <td>10</td>\n      <td>4</td>\n      <td>0</td>\n      <td>0</td>\n      <td>0</td>\n      <td>0</td>\n      <td>0</td>\n      <td>0</td>\n      <td>0</td>\n    </tr>\n    <tr>\n      <th>3</th>\n      <td>1984</td>\n      <td>Graduation</td>\n      <td>Together</td>\n      <td>26646.0</td>\n      <td>1</td>\n      <td>0</td>\n      <td>10-02-2014</td>\n      <td>26</td>\n      <td>4</td>\n      <td>20</td>\n      <td>...</td>\n      <td>0</td>\n      <td>4</td>\n      <td>6</td>\n      <td>0</td>\n      <td>0</td>\n      <td>0</td>\n      <td>0</td>\n      <td>0</td>\n      <td>0</td>\n      <td>0</td>\n    </tr>\n    <tr>\n      <th>4</th>\n      <td>1981</td>\n      <td>PhD</td>\n      <td>Married</td>\n      <td>58293.0</td>\n      <td>1</td>\n      <td>0</td>\n      <td>19-01-2014</td>\n      <td>94</td>\n      <td>43</td>\n      <td>118</td>\n      <td>...</td>\n      <td>3</td>\n      <td>6</td>\n      <td>5</td>\n      <td>0</td>\n      <td>0</td>\n      <td>0</td>\n      <td>0</td>\n      <td>0</td>\n      <td>0</td>\n      <td>0</td>\n    </tr>\n    <tr>\n      <th>...</th>\n      <td>...</td>\n      <td>...</td>\n      <td>...</td>\n      <td>...</td>\n      <td>...</td>\n      <td>...</td>\n      <td>...</td>\n      <td>...</td>\n      <td>...</td>\n      <td>...</td>\n      <td>...</td>\n      <td>...</td>\n      <td>...</td>\n      <td>...</td>\n      <td>...</td>\n      <td>...</td>\n      <td>...</td>\n      <td>...</td>\n      <td>...</td>\n      <td>...</td>\n      <td>...</td>\n    </tr>\n    <tr>\n      <th>2211</th>\n      <td>1967</td>\n      <td>Graduation</td>\n      <td>Married</td>\n      <td>61223.0</td>\n      <td>0</td>\n      <td>1</td>\n      <td>13-06-2013</td>\n      <td>46</td>\n      <td>43</td>\n      <td>182</td>\n      <td>...</td>\n      <td>3</td>\n      <td>4</td>\n      <td>5</td>\n      <td>0</td>\n      <td>0</td>\n      <td>0</td>\n      <td>0</td>\n      <td>0</td>\n      <td>0</td>\n      <td>0</td>\n    </tr>\n    <tr>\n      <th>2212</th>\n      <td>1946</td>\n      <td>PhD</td>\n      <td>Together</td>\n      <td>64014.0</td>\n      <td>2</td>\n      <td>1</td>\n      <td>10-06-2014</td>\n      <td>56</td>\n      <td>0</td>\n      <td>30</td>\n      <td>...</td>\n      <td>2</td>\n      <td>5</td>\n      <td>7</td>\n      <td>0</td>\n      <td>0</td>\n      <td>0</td>\n      <td>1</td>\n      <td>0</td>\n      <td>0</td>\n      <td>0</td>\n    </tr>\n    <tr>\n      <th>2213</th>\n      <td>1981</td>\n      <td>Graduation</td>\n      <td>Divorced</td>\n      <td>56981.0</td>\n      <td>0</td>\n      <td>0</td>\n      <td>25-01-2014</td>\n      <td>91</td>\n      <td>48</td>\n      <td>217</td>\n      <td>...</td>\n      <td>3</td>\n      <td>13</td>\n      <td>6</td>\n      <td>0</td>\n      <td>1</td>\n      <td>0</td>\n      <td>0</td>\n      <td>0</td>\n      <td>0</td>\n      <td>0</td>\n    </tr>\n    <tr>\n      <th>2214</th>\n      <td>1956</td>\n      <td>Master</td>\n      <td>Together</td>\n      <td>69245.0</td>\n      <td>0</td>\n      <td>1</td>\n      <td>24-01-2014</td>\n      <td>8</td>\n      <td>30</td>\n      <td>214</td>\n      <td>...</td>\n      <td>5</td>\n      <td>10</td>\n      <td>3</td>\n      <td>0</td>\n      <td>0</td>\n      <td>0</td>\n      <td>0</td>\n      <td>0</td>\n      <td>0</td>\n      <td>0</td>\n    </tr>\n    <tr>\n      <th>2215</th>\n      <td>1954</td>\n      <td>PhD</td>\n      <td>Married</td>\n      <td>52869.0</td>\n      <td>1</td>\n      <td>1</td>\n      <td>15-10-2012</td>\n      <td>40</td>\n      <td>3</td>\n      <td>61</td>\n      <td>...</td>\n      <td>1</td>\n      <td>4</td>\n      <td>7</td>\n      <td>0</td>\n      <td>0</td>\n      <td>0</td>\n      <td>0</td>\n      <td>0</td>\n      <td>0</td>\n      <td>1</td>\n    </tr>\n  </tbody>\n</table>\n<p>2216 rows × 25 columns</p>\n</div>"
     },
     "execution_count": 4,
     "metadata": {},
     "output_type": "execute_result"
    }
   ],
   "source": [
    "df = pd.read_csv('marketing_campaign_dataset.csv')\n",
    "df"
   ]
  },
  {
   "cell_type": "code",
   "execution_count": 5,
   "metadata": {},
   "outputs": [
    {
     "data": {
      "text/plain": "      Year_Birth   Income  Kidhome  Teenhome Dt_Customer  Recency  MntFruits  \\\n0           1957  58138.0        0         0  04-09-2012       58         88   \n1           1954  46344.0        1         1  08-03-2014       38          1   \n2           1965  71613.0        0         0  21-08-2013       26         49   \n3           1984  26646.0        1         0  10-02-2014       26          4   \n4           1981  58293.0        1         0  19-01-2014       94         43   \n...          ...      ...      ...       ...         ...      ...        ...   \n2211        1967  61223.0        0         1  13-06-2013       46         43   \n2212        1946  64014.0        2         1  10-06-2014       56          0   \n2213        1981  56981.0        0         0  25-01-2014       91         48   \n2214        1956  69245.0        0         1  24-01-2014        8         30   \n2215        1954  52869.0        1         1  15-10-2012       40          3   \n\n      MntMeatProducts  MntFishProducts  MntSweetProducts  ...  Graduation  \\\n0                 546              172                88  ...           1   \n1                   6                2                 1  ...           1   \n2                 127              111                21  ...           1   \n3                  20               10                 3  ...           1   \n4                 118               46                27  ...           0   \n...               ...              ...               ...  ...         ...   \n2211              182               42               118  ...           1   \n2212               30                0                 0  ...           0   \n2213              217               32                12  ...           1   \n2214              214               80                30  ...           0   \n2215               61                2                 1  ...           0   \n\n      Master  PhD  Alone  Divorced  Married  Single  Together  Widow  YOLO  \n0          0    0      0         0        0       1         0      0     0  \n1          0    0      0         0        0       1         0      0     0  \n2          0    0      0         0        0       0         1      0     0  \n3          0    0      0         0        0       0         1      0     0  \n4          0    1      0         0        1       0         0      0     0  \n...      ...  ...    ...       ...      ...     ...       ...    ...   ...  \n2211       0    0      0         0        1       0         0      0     0  \n2212       0    1      0         0        0       0         1      0     0  \n2213       0    0      0         1        0       0         0      0     0  \n2214       1    0      0         0        0       0         1      0     0  \n2215       0    1      0         0        1       0         0      0     0  \n\n[2216 rows x 34 columns]",
      "text/html": "<div>\n<style scoped>\n    .dataframe tbody tr th:only-of-type {\n        vertical-align: middle;\n    }\n\n    .dataframe tbody tr th {\n        vertical-align: top;\n    }\n\n    .dataframe thead th {\n        text-align: right;\n    }\n</style>\n<table border=\"1\" class=\"dataframe\">\n  <thead>\n    <tr style=\"text-align: right;\">\n      <th></th>\n      <th>Year_Birth</th>\n      <th>Income</th>\n      <th>Kidhome</th>\n      <th>Teenhome</th>\n      <th>Dt_Customer</th>\n      <th>Recency</th>\n      <th>MntFruits</th>\n      <th>MntMeatProducts</th>\n      <th>MntFishProducts</th>\n      <th>MntSweetProducts</th>\n      <th>...</th>\n      <th>Graduation</th>\n      <th>Master</th>\n      <th>PhD</th>\n      <th>Alone</th>\n      <th>Divorced</th>\n      <th>Married</th>\n      <th>Single</th>\n      <th>Together</th>\n      <th>Widow</th>\n      <th>YOLO</th>\n    </tr>\n  </thead>\n  <tbody>\n    <tr>\n      <th>0</th>\n      <td>1957</td>\n      <td>58138.0</td>\n      <td>0</td>\n      <td>0</td>\n      <td>04-09-2012</td>\n      <td>58</td>\n      <td>88</td>\n      <td>546</td>\n      <td>172</td>\n      <td>88</td>\n      <td>...</td>\n      <td>1</td>\n      <td>0</td>\n      <td>0</td>\n      <td>0</td>\n      <td>0</td>\n      <td>0</td>\n      <td>1</td>\n      <td>0</td>\n      <td>0</td>\n      <td>0</td>\n    </tr>\n    <tr>\n      <th>1</th>\n      <td>1954</td>\n      <td>46344.0</td>\n      <td>1</td>\n      <td>1</td>\n      <td>08-03-2014</td>\n      <td>38</td>\n      <td>1</td>\n      <td>6</td>\n      <td>2</td>\n      <td>1</td>\n      <td>...</td>\n      <td>1</td>\n      <td>0</td>\n      <td>0</td>\n      <td>0</td>\n      <td>0</td>\n      <td>0</td>\n      <td>1</td>\n      <td>0</td>\n      <td>0</td>\n      <td>0</td>\n    </tr>\n    <tr>\n      <th>2</th>\n      <td>1965</td>\n      <td>71613.0</td>\n      <td>0</td>\n      <td>0</td>\n      <td>21-08-2013</td>\n      <td>26</td>\n      <td>49</td>\n      <td>127</td>\n      <td>111</td>\n      <td>21</td>\n      <td>...</td>\n      <td>1</td>\n      <td>0</td>\n      <td>0</td>\n      <td>0</td>\n      <td>0</td>\n      <td>0</td>\n      <td>0</td>\n      <td>1</td>\n      <td>0</td>\n      <td>0</td>\n    </tr>\n    <tr>\n      <th>3</th>\n      <td>1984</td>\n      <td>26646.0</td>\n      <td>1</td>\n      <td>0</td>\n      <td>10-02-2014</td>\n      <td>26</td>\n      <td>4</td>\n      <td>20</td>\n      <td>10</td>\n      <td>3</td>\n      <td>...</td>\n      <td>1</td>\n      <td>0</td>\n      <td>0</td>\n      <td>0</td>\n      <td>0</td>\n      <td>0</td>\n      <td>0</td>\n      <td>1</td>\n      <td>0</td>\n      <td>0</td>\n    </tr>\n    <tr>\n      <th>4</th>\n      <td>1981</td>\n      <td>58293.0</td>\n      <td>1</td>\n      <td>0</td>\n      <td>19-01-2014</td>\n      <td>94</td>\n      <td>43</td>\n      <td>118</td>\n      <td>46</td>\n      <td>27</td>\n      <td>...</td>\n      <td>0</td>\n      <td>0</td>\n      <td>1</td>\n      <td>0</td>\n      <td>0</td>\n      <td>1</td>\n      <td>0</td>\n      <td>0</td>\n      <td>0</td>\n      <td>0</td>\n    </tr>\n    <tr>\n      <th>...</th>\n      <td>...</td>\n      <td>...</td>\n      <td>...</td>\n      <td>...</td>\n      <td>...</td>\n      <td>...</td>\n      <td>...</td>\n      <td>...</td>\n      <td>...</td>\n      <td>...</td>\n      <td>...</td>\n      <td>...</td>\n      <td>...</td>\n      <td>...</td>\n      <td>...</td>\n      <td>...</td>\n      <td>...</td>\n      <td>...</td>\n      <td>...</td>\n      <td>...</td>\n      <td>...</td>\n    </tr>\n    <tr>\n      <th>2211</th>\n      <td>1967</td>\n      <td>61223.0</td>\n      <td>0</td>\n      <td>1</td>\n      <td>13-06-2013</td>\n      <td>46</td>\n      <td>43</td>\n      <td>182</td>\n      <td>42</td>\n      <td>118</td>\n      <td>...</td>\n      <td>1</td>\n      <td>0</td>\n      <td>0</td>\n      <td>0</td>\n      <td>0</td>\n      <td>1</td>\n      <td>0</td>\n      <td>0</td>\n      <td>0</td>\n      <td>0</td>\n    </tr>\n    <tr>\n      <th>2212</th>\n      <td>1946</td>\n      <td>64014.0</td>\n      <td>2</td>\n      <td>1</td>\n      <td>10-06-2014</td>\n      <td>56</td>\n      <td>0</td>\n      <td>30</td>\n      <td>0</td>\n      <td>0</td>\n      <td>...</td>\n      <td>0</td>\n      <td>0</td>\n      <td>1</td>\n      <td>0</td>\n      <td>0</td>\n      <td>0</td>\n      <td>0</td>\n      <td>1</td>\n      <td>0</td>\n      <td>0</td>\n    </tr>\n    <tr>\n      <th>2213</th>\n      <td>1981</td>\n      <td>56981.0</td>\n      <td>0</td>\n      <td>0</td>\n      <td>25-01-2014</td>\n      <td>91</td>\n      <td>48</td>\n      <td>217</td>\n      <td>32</td>\n      <td>12</td>\n      <td>...</td>\n      <td>1</td>\n      <td>0</td>\n      <td>0</td>\n      <td>0</td>\n      <td>1</td>\n      <td>0</td>\n      <td>0</td>\n      <td>0</td>\n      <td>0</td>\n      <td>0</td>\n    </tr>\n    <tr>\n      <th>2214</th>\n      <td>1956</td>\n      <td>69245.0</td>\n      <td>0</td>\n      <td>1</td>\n      <td>24-01-2014</td>\n      <td>8</td>\n      <td>30</td>\n      <td>214</td>\n      <td>80</td>\n      <td>30</td>\n      <td>...</td>\n      <td>0</td>\n      <td>1</td>\n      <td>0</td>\n      <td>0</td>\n      <td>0</td>\n      <td>0</td>\n      <td>0</td>\n      <td>1</td>\n      <td>0</td>\n      <td>0</td>\n    </tr>\n    <tr>\n      <th>2215</th>\n      <td>1954</td>\n      <td>52869.0</td>\n      <td>1</td>\n      <td>1</td>\n      <td>15-10-2012</td>\n      <td>40</td>\n      <td>3</td>\n      <td>61</td>\n      <td>2</td>\n      <td>1</td>\n      <td>...</td>\n      <td>0</td>\n      <td>0</td>\n      <td>1</td>\n      <td>0</td>\n      <td>0</td>\n      <td>1</td>\n      <td>0</td>\n      <td>0</td>\n      <td>0</td>\n      <td>0</td>\n    </tr>\n  </tbody>\n</table>\n<p>2216 rows × 34 columns</p>\n</div>"
     },
     "execution_count": 5,
     "metadata": {},
     "output_type": "execute_result"
    }
   ],
   "source": [
    "dummy_columns = ['Education', 'Marital_Status']\n",
    "for dummy in dummy_columns:\n",
    "    dummies = pd.get_dummies(df[dummy], drop_first = True).astype(int)\n",
    "    df = pd.concat([df, dummies], axis = 1)\n",
    "    df = df.drop([dummy], axis = 1)\n",
    "df"
   ]
  },
  {
   "cell_type": "code",
   "execution_count": 6,
   "metadata": {},
   "outputs": [
    {
     "data": {
      "text/plain": "      Year_Birth   Income  Kidhome  Teenhome  Dt_Customer  Recency  MntFruits  \\\n0           1957  58138.0        0         0         4090       58         88   \n1           1954  46344.0        1         1         3540       38          1   \n2           1965  71613.0        0         0         3739       26         49   \n3           1984  26646.0        1         0         3566       26          4   \n4           1981  58293.0        1         0         3588       94         43   \n...          ...      ...      ...       ...          ...      ...        ...   \n2211        1967  61223.0        0         1         3808       46         43   \n2212        1946  64014.0        2         1         3446       56          0   \n2213        1981  56981.0        0         0         3582       91         48   \n2214        1956  69245.0        0         1         3583        8         30   \n2215        1954  52869.0        1         1         4049       40          3   \n\n      MntMeatProducts  MntFishProducts  MntSweetProducts  ...  Graduation  \\\n0                 546              172                88  ...           1   \n1                   6                2                 1  ...           1   \n2                 127              111                21  ...           1   \n3                  20               10                 3  ...           1   \n4                 118               46                27  ...           0   \n...               ...              ...               ...  ...         ...   \n2211              182               42               118  ...           1   \n2212               30                0                 0  ...           0   \n2213              217               32                12  ...           1   \n2214              214               80                30  ...           0   \n2215               61                2                 1  ...           0   \n\n      Master  PhD  Alone  Divorced  Married  Single  Together  Widow  YOLO  \n0          0    0      0         0        0       1         0      0     0  \n1          0    0      0         0        0       1         0      0     0  \n2          0    0      0         0        0       0         1      0     0  \n3          0    0      0         0        0       0         1      0     0  \n4          0    1      0         0        1       0         0      0     0  \n...      ...  ...    ...       ...      ...     ...       ...    ...   ...  \n2211       0    0      0         0        1       0         0      0     0  \n2212       0    1      0         0        0       0         1      0     0  \n2213       0    0      0         1        0       0         0      0     0  \n2214       1    0      0         0        0       0         1      0     0  \n2215       0    1      0         0        1       0         0      0     0  \n\n[2216 rows x 34 columns]",
      "text/html": "<div>\n<style scoped>\n    .dataframe tbody tr th:only-of-type {\n        vertical-align: middle;\n    }\n\n    .dataframe tbody tr th {\n        vertical-align: top;\n    }\n\n    .dataframe thead th {\n        text-align: right;\n    }\n</style>\n<table border=\"1\" class=\"dataframe\">\n  <thead>\n    <tr style=\"text-align: right;\">\n      <th></th>\n      <th>Year_Birth</th>\n      <th>Income</th>\n      <th>Kidhome</th>\n      <th>Teenhome</th>\n      <th>Dt_Customer</th>\n      <th>Recency</th>\n      <th>MntFruits</th>\n      <th>MntMeatProducts</th>\n      <th>MntFishProducts</th>\n      <th>MntSweetProducts</th>\n      <th>...</th>\n      <th>Graduation</th>\n      <th>Master</th>\n      <th>PhD</th>\n      <th>Alone</th>\n      <th>Divorced</th>\n      <th>Married</th>\n      <th>Single</th>\n      <th>Together</th>\n      <th>Widow</th>\n      <th>YOLO</th>\n    </tr>\n  </thead>\n  <tbody>\n    <tr>\n      <th>0</th>\n      <td>1957</td>\n      <td>58138.0</td>\n      <td>0</td>\n      <td>0</td>\n      <td>4090</td>\n      <td>58</td>\n      <td>88</td>\n      <td>546</td>\n      <td>172</td>\n      <td>88</td>\n      <td>...</td>\n      <td>1</td>\n      <td>0</td>\n      <td>0</td>\n      <td>0</td>\n      <td>0</td>\n      <td>0</td>\n      <td>1</td>\n      <td>0</td>\n      <td>0</td>\n      <td>0</td>\n    </tr>\n    <tr>\n      <th>1</th>\n      <td>1954</td>\n      <td>46344.0</td>\n      <td>1</td>\n      <td>1</td>\n      <td>3540</td>\n      <td>38</td>\n      <td>1</td>\n      <td>6</td>\n      <td>2</td>\n      <td>1</td>\n      <td>...</td>\n      <td>1</td>\n      <td>0</td>\n      <td>0</td>\n      <td>0</td>\n      <td>0</td>\n      <td>0</td>\n      <td>1</td>\n      <td>0</td>\n      <td>0</td>\n      <td>0</td>\n    </tr>\n    <tr>\n      <th>2</th>\n      <td>1965</td>\n      <td>71613.0</td>\n      <td>0</td>\n      <td>0</td>\n      <td>3739</td>\n      <td>26</td>\n      <td>49</td>\n      <td>127</td>\n      <td>111</td>\n      <td>21</td>\n      <td>...</td>\n      <td>1</td>\n      <td>0</td>\n      <td>0</td>\n      <td>0</td>\n      <td>0</td>\n      <td>0</td>\n      <td>0</td>\n      <td>1</td>\n      <td>0</td>\n      <td>0</td>\n    </tr>\n    <tr>\n      <th>3</th>\n      <td>1984</td>\n      <td>26646.0</td>\n      <td>1</td>\n      <td>0</td>\n      <td>3566</td>\n      <td>26</td>\n      <td>4</td>\n      <td>20</td>\n      <td>10</td>\n      <td>3</td>\n      <td>...</td>\n      <td>1</td>\n      <td>0</td>\n      <td>0</td>\n      <td>0</td>\n      <td>0</td>\n      <td>0</td>\n      <td>0</td>\n      <td>1</td>\n      <td>0</td>\n      <td>0</td>\n    </tr>\n    <tr>\n      <th>4</th>\n      <td>1981</td>\n      <td>58293.0</td>\n      <td>1</td>\n      <td>0</td>\n      <td>3588</td>\n      <td>94</td>\n      <td>43</td>\n      <td>118</td>\n      <td>46</td>\n      <td>27</td>\n      <td>...</td>\n      <td>0</td>\n      <td>0</td>\n      <td>1</td>\n      <td>0</td>\n      <td>0</td>\n      <td>1</td>\n      <td>0</td>\n      <td>0</td>\n      <td>0</td>\n      <td>0</td>\n    </tr>\n    <tr>\n      <th>...</th>\n      <td>...</td>\n      <td>...</td>\n      <td>...</td>\n      <td>...</td>\n      <td>...</td>\n      <td>...</td>\n      <td>...</td>\n      <td>...</td>\n      <td>...</td>\n      <td>...</td>\n      <td>...</td>\n      <td>...</td>\n      <td>...</td>\n      <td>...</td>\n      <td>...</td>\n      <td>...</td>\n      <td>...</td>\n      <td>...</td>\n      <td>...</td>\n      <td>...</td>\n      <td>...</td>\n    </tr>\n    <tr>\n      <th>2211</th>\n      <td>1967</td>\n      <td>61223.0</td>\n      <td>0</td>\n      <td>1</td>\n      <td>3808</td>\n      <td>46</td>\n      <td>43</td>\n      <td>182</td>\n      <td>42</td>\n      <td>118</td>\n      <td>...</td>\n      <td>1</td>\n      <td>0</td>\n      <td>0</td>\n      <td>0</td>\n      <td>0</td>\n      <td>1</td>\n      <td>0</td>\n      <td>0</td>\n      <td>0</td>\n      <td>0</td>\n    </tr>\n    <tr>\n      <th>2212</th>\n      <td>1946</td>\n      <td>64014.0</td>\n      <td>2</td>\n      <td>1</td>\n      <td>3446</td>\n      <td>56</td>\n      <td>0</td>\n      <td>30</td>\n      <td>0</td>\n      <td>0</td>\n      <td>...</td>\n      <td>0</td>\n      <td>0</td>\n      <td>1</td>\n      <td>0</td>\n      <td>0</td>\n      <td>0</td>\n      <td>0</td>\n      <td>1</td>\n      <td>0</td>\n      <td>0</td>\n    </tr>\n    <tr>\n      <th>2213</th>\n      <td>1981</td>\n      <td>56981.0</td>\n      <td>0</td>\n      <td>0</td>\n      <td>3582</td>\n      <td>91</td>\n      <td>48</td>\n      <td>217</td>\n      <td>32</td>\n      <td>12</td>\n      <td>...</td>\n      <td>1</td>\n      <td>0</td>\n      <td>0</td>\n      <td>0</td>\n      <td>1</td>\n      <td>0</td>\n      <td>0</td>\n      <td>0</td>\n      <td>0</td>\n      <td>0</td>\n    </tr>\n    <tr>\n      <th>2214</th>\n      <td>1956</td>\n      <td>69245.0</td>\n      <td>0</td>\n      <td>1</td>\n      <td>3583</td>\n      <td>8</td>\n      <td>30</td>\n      <td>214</td>\n      <td>80</td>\n      <td>30</td>\n      <td>...</td>\n      <td>0</td>\n      <td>1</td>\n      <td>0</td>\n      <td>0</td>\n      <td>0</td>\n      <td>0</td>\n      <td>0</td>\n      <td>1</td>\n      <td>0</td>\n      <td>0</td>\n    </tr>\n    <tr>\n      <th>2215</th>\n      <td>1954</td>\n      <td>52869.0</td>\n      <td>1</td>\n      <td>1</td>\n      <td>4049</td>\n      <td>40</td>\n      <td>3</td>\n      <td>61</td>\n      <td>2</td>\n      <td>1</td>\n      <td>...</td>\n      <td>0</td>\n      <td>0</td>\n      <td>1</td>\n      <td>0</td>\n      <td>0</td>\n      <td>1</td>\n      <td>0</td>\n      <td>0</td>\n      <td>0</td>\n      <td>0</td>\n    </tr>\n  </tbody>\n</table>\n<p>2216 rows × 34 columns</p>\n</div>"
     },
     "execution_count": 6,
     "metadata": {},
     "output_type": "execute_result"
    }
   ],
   "source": [
    "df['Dt_Customer'] = pd.to_datetime(df['Dt_Customer'], format = '%d-%m-%Y')\n",
    "refrence_date = datetime.now().date().strftime(\"%d-%m-%Y\")\n",
    "df['Dt_Customer'] = (pd.Timestamp(refrence_date) - df['Dt_Customer']).dt.days\n",
    "df"
   ]
  },
  {
   "cell_type": "code",
   "execution_count": 7,
   "outputs": [
    {
     "data": {
      "text/plain": "      Year_Birth    Income   Kidhome  Teenhome  Dt_Customer   Recency  \\\n0      -0.986443  0.234063 -0.823039 -0.928972     1.529129  0.310532   \n1      -1.236801 -0.234559  1.039938  0.909066    -1.188411 -0.380509   \n2      -0.318822  0.769478 -0.823039 -0.928972    -0.205155 -0.795134   \n3       1.266777 -1.017239  1.039938 -0.928972    -1.059945 -0.795134   \n4       1.016420  0.240221  1.039938 -0.928972    -0.951244  1.554407   \n...          ...       ...       ...       ...          ...       ...   \n2211   -0.151917  0.356642 -0.823039  0.909066     0.135772 -0.104093   \n2212   -1.904422  0.467539  2.902916  0.909066    -1.652863  0.241428   \n2213    1.016420  0.188091 -0.823039 -0.928972    -0.980889  1.450751   \n2214   -1.069896  0.675388 -0.823039  0.909066    -0.975948 -1.417072   \n2215   -1.236801  0.024705  1.039938  0.909066     1.326548 -0.311405   \n\n      MntFruits  MntMeatProducts  MntFishProducts  MntSweetProducts  ...  \\\n0      1.549429         1.690227         2.454568          1.484827  ...   \n1     -0.637328        -0.717986        -0.651038         -0.633880  ...   \n2      0.569159        -0.178368         1.340203         -0.146821  ...   \n3     -0.561922        -0.655551        -0.504892         -0.585174  ...   \n4      0.418348        -0.218505         0.152766         -0.000703  ...   \n...         ...              ...              ...               ...  ...   \n2211   0.418348         0.066913         0.079693          2.215416  ...   \n2212  -0.662463        -0.610954        -0.687574         -0.658233  ...   \n2213   0.544024         0.223001        -0.102990         -0.365998  ...   \n2214   0.091591         0.209622         0.773887          0.072356  ...   \n2215  -0.587058        -0.472705        -0.651038         -0.633880  ...   \n\n      Graduation    Master       PhD     Alone  Divorced   Married    Single  \\\n0       0.992806 -0.444062 -0.526530 -0.036819 -0.341958 -0.794110  1.924807   \n1       0.992806 -0.444062 -0.526530 -0.036819 -0.341958 -0.794110  1.924807   \n2       0.992806 -0.444062 -0.526530 -0.036819 -0.341958 -0.794110 -0.519533   \n3       0.992806 -0.444062 -0.526530 -0.036819 -0.341958 -0.794110 -0.519533   \n4      -1.007246 -0.444062  1.899228 -0.036819 -0.341958  1.259271 -0.519533   \n...          ...       ...       ...       ...       ...       ...       ...   \n2211    0.992806 -0.444062 -0.526530 -0.036819 -0.341958  1.259271 -0.519533   \n2212   -1.007246 -0.444062  1.899228 -0.036819 -0.341958 -0.794110 -0.519533   \n2213    0.992806 -0.444062 -0.526530 -0.036819  2.924333 -0.794110 -0.519533   \n2214   -1.007246  2.251940 -0.526530 -0.036819 -0.341958 -0.794110 -0.519533   \n2215   -1.007246 -0.444062  1.899228 -0.036819 -0.341958  1.259271 -0.519533   \n\n      Together     Widow      YOLO  \n0    -0.590553 -0.188452 -0.030056  \n1    -0.590553 -0.188452 -0.030056  \n2     1.693329 -0.188452 -0.030056  \n3     1.693329 -0.188452 -0.030056  \n4    -0.590553 -0.188452 -0.030056  \n...        ...       ...       ...  \n2211 -0.590553 -0.188452 -0.030056  \n2212  1.693329 -0.188452 -0.030056  \n2213 -0.590553 -0.188452 -0.030056  \n2214  1.693329 -0.188452 -0.030056  \n2215 -0.590553 -0.188452 -0.030056  \n\n[2216 rows x 34 columns]",
      "text/html": "<div>\n<style scoped>\n    .dataframe tbody tr th:only-of-type {\n        vertical-align: middle;\n    }\n\n    .dataframe tbody tr th {\n        vertical-align: top;\n    }\n\n    .dataframe thead th {\n        text-align: right;\n    }\n</style>\n<table border=\"1\" class=\"dataframe\">\n  <thead>\n    <tr style=\"text-align: right;\">\n      <th></th>\n      <th>Year_Birth</th>\n      <th>Income</th>\n      <th>Kidhome</th>\n      <th>Teenhome</th>\n      <th>Dt_Customer</th>\n      <th>Recency</th>\n      <th>MntFruits</th>\n      <th>MntMeatProducts</th>\n      <th>MntFishProducts</th>\n      <th>MntSweetProducts</th>\n      <th>...</th>\n      <th>Graduation</th>\n      <th>Master</th>\n      <th>PhD</th>\n      <th>Alone</th>\n      <th>Divorced</th>\n      <th>Married</th>\n      <th>Single</th>\n      <th>Together</th>\n      <th>Widow</th>\n      <th>YOLO</th>\n    </tr>\n  </thead>\n  <tbody>\n    <tr>\n      <th>0</th>\n      <td>-0.986443</td>\n      <td>0.234063</td>\n      <td>-0.823039</td>\n      <td>-0.928972</td>\n      <td>1.529129</td>\n      <td>0.310532</td>\n      <td>1.549429</td>\n      <td>1.690227</td>\n      <td>2.454568</td>\n      <td>1.484827</td>\n      <td>...</td>\n      <td>0.992806</td>\n      <td>-0.444062</td>\n      <td>-0.526530</td>\n      <td>-0.036819</td>\n      <td>-0.341958</td>\n      <td>-0.794110</td>\n      <td>1.924807</td>\n      <td>-0.590553</td>\n      <td>-0.188452</td>\n      <td>-0.030056</td>\n    </tr>\n    <tr>\n      <th>1</th>\n      <td>-1.236801</td>\n      <td>-0.234559</td>\n      <td>1.039938</td>\n      <td>0.909066</td>\n      <td>-1.188411</td>\n      <td>-0.380509</td>\n      <td>-0.637328</td>\n      <td>-0.717986</td>\n      <td>-0.651038</td>\n      <td>-0.633880</td>\n      <td>...</td>\n      <td>0.992806</td>\n      <td>-0.444062</td>\n      <td>-0.526530</td>\n      <td>-0.036819</td>\n      <td>-0.341958</td>\n      <td>-0.794110</td>\n      <td>1.924807</td>\n      <td>-0.590553</td>\n      <td>-0.188452</td>\n      <td>-0.030056</td>\n    </tr>\n    <tr>\n      <th>2</th>\n      <td>-0.318822</td>\n      <td>0.769478</td>\n      <td>-0.823039</td>\n      <td>-0.928972</td>\n      <td>-0.205155</td>\n      <td>-0.795134</td>\n      <td>0.569159</td>\n      <td>-0.178368</td>\n      <td>1.340203</td>\n      <td>-0.146821</td>\n      <td>...</td>\n      <td>0.992806</td>\n      <td>-0.444062</td>\n      <td>-0.526530</td>\n      <td>-0.036819</td>\n      <td>-0.341958</td>\n      <td>-0.794110</td>\n      <td>-0.519533</td>\n      <td>1.693329</td>\n      <td>-0.188452</td>\n      <td>-0.030056</td>\n    </tr>\n    <tr>\n      <th>3</th>\n      <td>1.266777</td>\n      <td>-1.017239</td>\n      <td>1.039938</td>\n      <td>-0.928972</td>\n      <td>-1.059945</td>\n      <td>-0.795134</td>\n      <td>-0.561922</td>\n      <td>-0.655551</td>\n      <td>-0.504892</td>\n      <td>-0.585174</td>\n      <td>...</td>\n      <td>0.992806</td>\n      <td>-0.444062</td>\n      <td>-0.526530</td>\n      <td>-0.036819</td>\n      <td>-0.341958</td>\n      <td>-0.794110</td>\n      <td>-0.519533</td>\n      <td>1.693329</td>\n      <td>-0.188452</td>\n      <td>-0.030056</td>\n    </tr>\n    <tr>\n      <th>4</th>\n      <td>1.016420</td>\n      <td>0.240221</td>\n      <td>1.039938</td>\n      <td>-0.928972</td>\n      <td>-0.951244</td>\n      <td>1.554407</td>\n      <td>0.418348</td>\n      <td>-0.218505</td>\n      <td>0.152766</td>\n      <td>-0.000703</td>\n      <td>...</td>\n      <td>-1.007246</td>\n      <td>-0.444062</td>\n      <td>1.899228</td>\n      <td>-0.036819</td>\n      <td>-0.341958</td>\n      <td>1.259271</td>\n      <td>-0.519533</td>\n      <td>-0.590553</td>\n      <td>-0.188452</td>\n      <td>-0.030056</td>\n    </tr>\n    <tr>\n      <th>...</th>\n      <td>...</td>\n      <td>...</td>\n      <td>...</td>\n      <td>...</td>\n      <td>...</td>\n      <td>...</td>\n      <td>...</td>\n      <td>...</td>\n      <td>...</td>\n      <td>...</td>\n      <td>...</td>\n      <td>...</td>\n      <td>...</td>\n      <td>...</td>\n      <td>...</td>\n      <td>...</td>\n      <td>...</td>\n      <td>...</td>\n      <td>...</td>\n      <td>...</td>\n      <td>...</td>\n    </tr>\n    <tr>\n      <th>2211</th>\n      <td>-0.151917</td>\n      <td>0.356642</td>\n      <td>-0.823039</td>\n      <td>0.909066</td>\n      <td>0.135772</td>\n      <td>-0.104093</td>\n      <td>0.418348</td>\n      <td>0.066913</td>\n      <td>0.079693</td>\n      <td>2.215416</td>\n      <td>...</td>\n      <td>0.992806</td>\n      <td>-0.444062</td>\n      <td>-0.526530</td>\n      <td>-0.036819</td>\n      <td>-0.341958</td>\n      <td>1.259271</td>\n      <td>-0.519533</td>\n      <td>-0.590553</td>\n      <td>-0.188452</td>\n      <td>-0.030056</td>\n    </tr>\n    <tr>\n      <th>2212</th>\n      <td>-1.904422</td>\n      <td>0.467539</td>\n      <td>2.902916</td>\n      <td>0.909066</td>\n      <td>-1.652863</td>\n      <td>0.241428</td>\n      <td>-0.662463</td>\n      <td>-0.610954</td>\n      <td>-0.687574</td>\n      <td>-0.658233</td>\n      <td>...</td>\n      <td>-1.007246</td>\n      <td>-0.444062</td>\n      <td>1.899228</td>\n      <td>-0.036819</td>\n      <td>-0.341958</td>\n      <td>-0.794110</td>\n      <td>-0.519533</td>\n      <td>1.693329</td>\n      <td>-0.188452</td>\n      <td>-0.030056</td>\n    </tr>\n    <tr>\n      <th>2213</th>\n      <td>1.016420</td>\n      <td>0.188091</td>\n      <td>-0.823039</td>\n      <td>-0.928972</td>\n      <td>-0.980889</td>\n      <td>1.450751</td>\n      <td>0.544024</td>\n      <td>0.223001</td>\n      <td>-0.102990</td>\n      <td>-0.365998</td>\n      <td>...</td>\n      <td>0.992806</td>\n      <td>-0.444062</td>\n      <td>-0.526530</td>\n      <td>-0.036819</td>\n      <td>2.924333</td>\n      <td>-0.794110</td>\n      <td>-0.519533</td>\n      <td>-0.590553</td>\n      <td>-0.188452</td>\n      <td>-0.030056</td>\n    </tr>\n    <tr>\n      <th>2214</th>\n      <td>-1.069896</td>\n      <td>0.675388</td>\n      <td>-0.823039</td>\n      <td>0.909066</td>\n      <td>-0.975948</td>\n      <td>-1.417072</td>\n      <td>0.091591</td>\n      <td>0.209622</td>\n      <td>0.773887</td>\n      <td>0.072356</td>\n      <td>...</td>\n      <td>-1.007246</td>\n      <td>2.251940</td>\n      <td>-0.526530</td>\n      <td>-0.036819</td>\n      <td>-0.341958</td>\n      <td>-0.794110</td>\n      <td>-0.519533</td>\n      <td>1.693329</td>\n      <td>-0.188452</td>\n      <td>-0.030056</td>\n    </tr>\n    <tr>\n      <th>2215</th>\n      <td>-1.236801</td>\n      <td>0.024705</td>\n      <td>1.039938</td>\n      <td>0.909066</td>\n      <td>1.326548</td>\n      <td>-0.311405</td>\n      <td>-0.587058</td>\n      <td>-0.472705</td>\n      <td>-0.651038</td>\n      <td>-0.633880</td>\n      <td>...</td>\n      <td>-1.007246</td>\n      <td>-0.444062</td>\n      <td>1.899228</td>\n      <td>-0.036819</td>\n      <td>-0.341958</td>\n      <td>1.259271</td>\n      <td>-0.519533</td>\n      <td>-0.590553</td>\n      <td>-0.188452</td>\n      <td>-0.030056</td>\n    </tr>\n  </tbody>\n</table>\n<p>2216 rows × 34 columns</p>\n</div>"
     },
     "execution_count": 7,
     "metadata": {},
     "output_type": "execute_result"
    }
   ],
   "source": [
    "scaler = StandardScaler()\n",
    "df_scaler = pd.DataFrame(scaler.fit_transform(df), columns=df.columns)\n",
    "df_scaler"
   ],
   "metadata": {
    "collapsed": false,
    "pycharm": {
     "name": "#%%\n"
    }
   }
  },
  {
   "cell_type": "code",
   "execution_count": 8,
   "metadata": {},
   "outputs": [
    {
     "name": "stdout",
     "output_type": "stream",
     "text": [
      "(2216, 34)\n"
     ]
    }
   ],
   "source": [
    "X = df.values\n",
    "print(X.shape)"
   ]
  },
  {
   "cell_type": "code",
   "execution_count": 9,
   "outputs": [],
   "source": [
    "def closest_centroid(X, centroids):\n",
    "    \"\"\"\n",
    "    Computes the centroid memberships for every example\n",
    "\n",
    "    Args:\n",
    "        X (ndarray): (m, n) Input values\n",
    "        centroids (ndarray): (K, n) centroids\n",
    "\n",
    "    Returns:\n",
    "        idx (array_like): (m,) closest centroids\n",
    "\n",
    "    \"\"\"\n",
    "    idx = np.zeros(X.shape[0], dtype = int)\n",
    "\n",
    "    for i in range(X.shape[0]):\n",
    "        min_distance = math.inf\n",
    "        cluster = -1\n",
    "        for j in range(centroids.shape[0]):\n",
    "            L2_norm = np.linalg.norm(X[i] - centroids[j])\n",
    "            if L2_norm < min_distance:\n",
    "                min_distance = L2_norm\n",
    "                cluster = j\n",
    "        idx[i] = cluster\n",
    "\n",
    "    return idx"
   ],
   "metadata": {
    "collapsed": false,
    "pycharm": {
     "name": "#%%\n"
    }
   }
  },
  {
   "cell_type": "code",
   "execution_count": 10,
   "outputs": [],
   "source": [
    "def compute_centroids(X, idx, K):\n",
    "    \"\"\"\n",
    "    Returns the new centroids by computing the means of the\n",
    "    data points assigned to each centroid.\n",
    "\n",
    "    Args:\n",
    "        X (ndarray):   (m, n) Data points\n",
    "        idx (ndarray): (m,) Array containing index of closest centroid for each\n",
    "                       example in X. Concretely, idx[i] contains the index of\n",
    "                       the centroid closest to example i\n",
    "        K (int):       number of centroids\n",
    "\n",
    "    Returns:\n",
    "        centroids (ndarray): (K, n) New centroids computed\n",
    "    \"\"\"\n",
    "    centroids = np.zeros((K, X.shape[1]))\n",
    "\n",
    "    for k in range(K):\n",
    "        points_cluster_k = X[idx == k]\n",
    "        centroids[k] = np.mean(points_cluster_k, axis=0)\n",
    "\n",
    "    return centroids"
   ],
   "metadata": {
    "collapsed": false,
    "pycharm": {
     "name": "#%%\n"
    }
   }
  },
  {
   "cell_type": "code",
   "execution_count": 11,
   "outputs": [],
   "source": [
    "def plotDataPoints(X, idx, K):\n",
    "    \"\"\"\n",
    "    Plots data points in X, coloring them so that those\n",
    "    with the same index assignments in idx have the same color\n",
    "    Args:\n",
    "        X  : array(# training examples, 2)\n",
    "        idx: array(# training examples, 1)\n",
    "        K  : int, # of centroids\n",
    "    \"\"\"\n",
    "    # Create a colors list.\n",
    "    colors = [plt.cm.tab20(float(i) / 10) for i in idx]\n",
    "\n",
    "    # Plot the data.\n",
    "    plt.scatter(X[:,0], X[:,1], c=colors, alpha=0.5, s=2)"
   ],
   "metadata": {
    "collapsed": false,
    "pycharm": {
     "name": "#%%\n"
    }
   }
  },
  {
   "cell_type": "code",
   "execution_count": 12,
   "outputs": [],
   "source": [
    "def plotProgresskMeans(X, centroids, previous, idx, K, i):\n",
    "    \"\"\"\n",
    "    Plots the data points with colors assigned to each centroid.\n",
    "    With the previous centroids, it also plots a line between the\n",
    "    previous locations and current locations of the centroids.\n",
    "    Args:\n",
    "        X        : array(# training examples, n)\n",
    "        centroids: array(# of centroids, n)\n",
    "        previous : array(# of centroids, n)\n",
    "        idx      : array(# training examples, 1)\n",
    "        K        : int, # of centroids\n",
    "        i        : # of iterations\n",
    "    \"\"\"\n",
    "    # Plot the examples.\n",
    "    plotDataPoints(X, idx, K)\n",
    "\n",
    "    # Plot the centroids as black x's.\n",
    "    plt.scatter(centroids[:,0], centroids[:,1],\n",
    "                marker='x', c='k', s=100, linewidth=1)\n",
    "\n",
    "    # Plot the history of the centroids with lines.\n",
    "    for j in range(centroids.shape[0]):\n",
    "        plt.plot([centroids[j, :][0], previous[j, :][0]],\n",
    "                 [centroids[j, :][1], previous[j, :][1]], c='k')\n",
    "    # Title\n",
    "    plt.title('Iteration number {:d}'.format(i+1))"
   ],
   "metadata": {
    "collapsed": false,
    "pycharm": {
     "name": "#%%\n"
    }
   }
  },
  {
   "cell_type": "code",
   "execution_count": 13,
   "outputs": [],
   "source": [
    "def k_means(X, initial_centroids, num_iterations, plot_progress):\n",
    "\n",
    "    m, n = X.shape\n",
    "    K = initial_centroids.shape[0]\n",
    "    centroids = copy.deepcopy(initial_centroids)\n",
    "    previous_centroids = centroids\n",
    "    idx = np.ndarray((m,))\n",
    "\n",
    "    plt.ion()\n",
    "    for i in range(num_iterations):\n",
    "        idx = closest_centroid(X, centroids)\n",
    "\n",
    "        if plot_progress:\n",
    "            plotProgresskMeans(X, centroids, previous_centroids, idx, K, i)\n",
    "            previous_centroids = centroids\n",
    "\n",
    "        centroids = compute_centroids(X, idx, K)\n",
    "\n",
    "    return idx, centroids"
   ],
   "metadata": {
    "collapsed": false,
    "pycharm": {
     "name": "#%%\n"
    }
   }
  },
  {
   "cell_type": "code",
   "execution_count": 14,
   "outputs": [],
   "source": [
    "def kMeans_init_centroids(X, K):\n",
    "    \"\"\"\n",
    "    This function initializes K centroids that are to be\n",
    "    used in K-Means on the dataset X\n",
    "\n",
    "    Args:\n",
    "        X (ndarray): Data points\n",
    "        K (int):     number of centroids/clusters\n",
    "\n",
    "    Returns:\n",
    "        centroids (ndarray): Initialized centroids\n",
    "    \"\"\"\n",
    "\n",
    "    randidx = np.random.permutation(X.shape[0])\n",
    "    centroids = X[randidx[:K]]\n",
    "\n",
    "    return centroids"
   ],
   "metadata": {
    "collapsed": false,
    "pycharm": {
     "name": "#%%\n"
    }
   }
  },
  {
   "cell_type": "code",
   "execution_count": 18,
   "outputs": [
    {
     "data": {
      "text/plain": "<Figure size 640x480 with 1 Axes>",
      "image/png": "[encoded data removed]"
     },
     "metadata": {},
     "output_type": "display_data"
    }
   ],
   "source": [
    "K = 5\n",
    "initial_centroids = kMeans_init_centroids(X, K)\n",
    "\n",
    "max_iterations = 100\n",
    "\n",
    "idx, centroids = k_means(X, initial_centroids, max_iterations, True)"
   ],
   "metadata": {
    "collapsed": false,
    "pycharm": {
     "name": "#%%\n"
    }
   }
  },
  {
   "cell_type": "code",
   "execution_count": 16,
   "outputs": [
    {
     "name": "stdout",
     "output_type": "stream",
     "text": [
      "[[2.55151196e+04 1.80236499e+09 4.41787004e-01 5.05415162e-01\n",
      "  7.60512942e+05 8.01499936e+02 1.97581795e+03 2.86445440e+04\n",
      "  6.11374736e+03 8.89347208e+02 2.21972157e+03 4.24683750e+00\n",
      "  2.60079493e+01 8.52317528e+00 3.83015050e+01 1.50182883e+01\n",
      "  7.35559567e-02 7.40072202e-02 7.31046931e-02 6.40794224e-02\n",
      "  1.35379061e-02 9.47653430e-03 1.50270758e-01 2.43682310e-02\n",
      "  1.00359708e+00 1.64711191e-01 2.17057762e-01 1.35379061e-03\n",
      "  1.04693141e-01 3.86732852e-01 2.12545126e-01 6.96424998e-01\n",
      "  3.42960289e-02 9.02527076e-04]\n",
      " [2.52874455e+04 2.08391265e+09 4.41787004e-01 5.05415162e-01\n",
      "  8.15157968e+05 7.14674478e+02 9.01624655e+02 2.59537520e+04\n",
      "  3.26728154e+03 2.81929775e+03 2.37513274e+03 4.24683750e+00\n",
      "  2.32676168e+01 2.02274681e+01 4.48016075e+01 1.25934770e+01\n",
      "  7.35559567e-02 7.40072202e-02 3.33412966e-01 3.08973787e-01\n",
      "  1.35379061e-02 9.47653430e-03 5.07607374e-01 2.43682310e-02\n",
      "  5.03610108e-01 1.64711191e-01 6.29300032e-01 1.35379061e-03\n",
      "  1.04693141e-01 3.86732852e-01 6.21653542e-01 2.58574007e-01\n",
      "  3.42960289e-02 9.02527076e-04]\n",
      " [2.53233940e+04 1.93781592e+09 4.41787004e-01 1.04947358e+00\n",
      "  7.90061734e+05 2.68271819e+03 3.20915099e+03 1.11834861e+05\n",
      "  3.76376354e+01 6.84033320e+02 9.16142030e+03 6.17011905e+00\n",
      "  3.42289470e+01 1.43753217e+01 3.50514538e+01 1.74430995e+01\n",
      "  7.35559567e-02 7.40072202e-02 7.31046931e-02 3.08973787e-01\n",
      "  1.35379061e-02 9.47653430e-03 1.50270758e-01 2.43682310e-02\n",
      "  5.03610108e-01 5.35630879e-01 2.17057762e-01 1.35379061e-03\n",
      "  1.04693141e-01 8.73734447e-01 2.12545126e-01 2.58574007e-01\n",
      "  3.42960289e-02 9.02527076e-04]\n",
      " [2.55151196e+04 2.12966698e+09 4.41787004e-01 5.05415162e-01\n",
      "  7.41690766e+05 2.82742728e+03 4.00484972e+03 1.79777358e+05\n",
      "  1.18717191e+03 2.73717219e+03 4.39652527e+01 4.24683750e+00\n",
      "  2.05272842e+01 2.90056877e+01 3.83015050e+01 1.01686658e+01\n",
      "  7.35559567e-02 7.40072202e-02 3.33412966e-01 6.40794224e-02\n",
      "  1.35379061e-02 9.47653430e-03 1.50270758e-01 2.43682310e-02\n",
      "  5.03610108e-01 1.64711191e-01 6.29300032e-01 1.35379061e-03\n",
      "  1.04693141e-01 8.73734447e-01 2.12545126e-01 2.58574007e-01\n",
      "  3.42960289e-02 9.02527076e-04]\n",
      " [2.56948623e+04 2.01372078e+09 4.41787004e-01 1.04947358e+00\n",
      "  7.83585287e+05 1.35838093e+02 3.05001124e+03 1.20355703e+05\n",
      "  4.52629527e+03 7.33620327e+03 5.32794488e+03 6.17011905e+00\n",
      "  2.60079493e+01 2.02274681e+01 2.20512489e+01 1.50182883e+01\n",
      "  7.35559567e-02 7.40072202e-02 7.31046931e-02 6.40794224e-02\n",
      "  1.35379061e-02 9.47653430e-03 1.50270758e-01 2.43682310e-02\n",
      "  1.00359708e+00 1.64711191e-01 2.17057762e-01 1.35379061e-03\n",
      "  1.04693141e-01 8.73734447e-01 2.12545126e-01 2.58574007e-01\n",
      "  3.42960289e-02 9.02527076e-04]]\n"
     ]
    }
   ],
   "source": [
    "test = 4\n",
    "result_test = X[idx == test]\n",
    "\n",
    "scaler = StandardScaler()\n",
    "scaler.fit(df)\n",
    "result_test_actual = scaler.inverse_transform(result_test)\n",
    "print(result_test_actual[0:5])"
   ],
   "metadata": {
    "collapsed": false,
    "pycharm": {
     "name": "#%%\n"
    }
   }
  }
 ],
 "metadata": {
  "kernelspec": {
   "display_name": "Python 3 (ipykernel)",
   "language": "python",
   "name": "python3"
  },
  "language_info": {
   "codemirror_mode": {
    "name": "ipython",
    "version": 3
   },
   "file_extension": ".py",
   "mimetype": "text/x-python",
   "name": "python",
   "nbconvert_exporter": "python",
   "pygments_lexer": "ipython3",
   "version": "3.11.4"
  }
 },
 "nbformat": 4,
 "nbformat_minor": 4
}