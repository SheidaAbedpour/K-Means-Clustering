{
 "cells": [
  {
   "cell_type": "code",
   "execution_count": 2,
   "metadata": {
    "collapsed": true,
    "pycharm": {
     "name": "#%%\n"
    }
   },
   "outputs": [],
   "source": [
    "import numpy as np\n",
    "import matplotlib.pyplot as plt\n",
    "import math\n",
    "import copy\n",
    "\n",
    "%matplotlib inline"
   ]
  },
  {
   "cell_type": "code",
   "execution_count": 3,
   "outputs": [],
   "source": [
    "original_images = []\n",
    "addresses = ['usps_1.jpg', 'usps_2.jpg', 'usps_3.jpg', 'usps_4.jpg', 'usps_5.jpg']\n",
    "\n",
    "for i in range(len(addresses)):\n",
    "    original_images.append(plt.imread(addresses[i]))"
   ],
   "metadata": {
    "collapsed": false,
    "pycharm": {
     "name": "#%%\n"
    }
   }
  },
  {
   "cell_type": "code",
   "execution_count": 4,
   "outputs": [
    {
     "name": "stdout",
     "output_type": "stream",
     "text": [
      "r:  34  column:  33\n"
     ]
    }
   ],
   "source": [
    "row = int(original_images[0].shape[0] / 16)\n",
    "column = int(original_images[0].shape[1] / 16)\n",
    "\n",
    "print(\"r: \", row, \" column: \", column)"
   ],
   "metadata": {
    "collapsed": false,
    "pycharm": {
     "name": "#%%\n"
    }
   }
  },
  {
   "cell_type": "code",
   "execution_count": 5,
   "outputs": [
    {
     "name": "stdout",
     "output_type": "stream",
     "text": [
      "(256,)\n"
     ]
    }
   ],
   "source": [
    "d = 16\n",
    "X_list = []\n",
    "for img in original_images:\n",
    "    for i in range(row):\n",
    "        for j in range(column):\n",
    "            img_digit_one = img[i * d: (i + 1) * d, j * d: (j + 1) * d]\n",
    "            x = img_digit_one.reshape(1,-1)\n",
    "            if not ((i > 11) and (j == column - 1)):\n",
    "                X_list.append(x)\n",
    "X = np.concatenate(X_list, axis=0)\n",
    "print(X[0].shape)"
   ],
   "metadata": {
    "collapsed": false,
    "pycharm": {
     "name": "#%%\n"
    }
   }
  },
  {
   "cell_type": "code",
   "execution_count": 6,
   "outputs": [],
   "source": [
    "def L2_norm(A, B):\n",
    "    norm = 0.0\n",
    "    n = len(A)\n",
    "\n",
    "    for i in range(n):\n",
    "        norm += (A[i] - B[i]) ** 2\n",
    "\n",
    "    return norm"
   ],
   "metadata": {
    "collapsed": false,
    "pycharm": {
     "name": "#%%\n"
    }
   }
  },
  {
   "cell_type": "code",
   "execution_count": 7,
   "outputs": [],
   "source": [
    "def closest_centroid(X, centroids):\n",
    "    \"\"\"\n",
    "    Computes the centroid memberships for every example\n",
    "\n",
    "    Args:\n",
    "        X (ndarray): (m, n) Input values\n",
    "        centroids (ndarray): (K, n) centroids\n",
    "\n",
    "    Returns:\n",
    "        idx (array_like): (m,) closest centroids\n",
    "\n",
    "    \"\"\"\n",
    "    idx = np.zeros(X.shape[0], dtype = int)\n",
    "\n",
    "    for i in range(X.shape[0]):\n",
    "        min_distance = math.inf\n",
    "        cluster = -1\n",
    "        for j in range(centroids.shape[0]):\n",
    "            L2_norm = np.linalg.norm(X[i] - centroids[j])\n",
    "            if L2_norm < min_distance:\n",
    "                min_distance = L2_norm\n",
    "                cluster = j\n",
    "        idx[i] = cluster\n",
    "\n",
    "    return idx"
   ],
   "metadata": {
    "collapsed": false,
    "pycharm": {
     "name": "#%%\n"
    }
   }
  },
  {
   "cell_type": "code",
   "execution_count": 8,
   "outputs": [],
   "source": [
    "def compute_centroids(X, idx, K):\n",
    "    \"\"\"\n",
    "    Returns the new centroids by computing the means of the\n",
    "    data points assigned to each centroid.\n",
    "\n",
    "    Args:\n",
    "        X (ndarray):   (m, n) Data points\n",
    "        idx (ndarray): (m,) Array containing index of closest centroid for each\n",
    "                       example in X. Concretely, idx[i] contains the index of\n",
    "                       the centroid closest to example i\n",
    "        K (int):       number of centroids\n",
    "\n",
    "    Returns:\n",
    "        centroids (ndarray): (K, n) New centroids computed\n",
    "    \"\"\"\n",
    "    centroids = np.zeros((K, X.shape[1]))\n",
    "\n",
    "    for k in range(K):\n",
    "        points_cluster_k = X[idx == k]\n",
    "        centroids[k] = np.mean(points_cluster_k, axis=0)\n",
    "\n",
    "    return centroids"
   ],
   "metadata": {
    "collapsed": false,
    "pycharm": {
     "name": "#%%\n"
    }
   }
  },
  {
   "cell_type": "code",
   "execution_count": 9,
   "outputs": [],
   "source": [
    "def k_means(X, initial_centroids, num_iterations):\n",
    "\n",
    "    m, n = X.shape\n",
    "    K = initial_centroids.shape[0]\n",
    "    centroids = copy.deepcopy(initial_centroids)\n",
    "    idx = np.ndarray((m,))\n",
    "\n",
    "    for i in range(num_iterations):\n",
    "        idx = closest_centroid(X, centroids)\n",
    "        centroids = compute_centroids(X, idx, K)\n",
    "\n",
    "    return idx, centroids"
   ],
   "metadata": {
    "collapsed": false,
    "pycharm": {
     "name": "#%%\n"
    }
   }
  },
  {
   "cell_type": "code",
   "execution_count": 10,
   "outputs": [],
   "source": [
    "def kMeans_init_centroids(X, K):\n",
    "    \"\"\"\n",
    "    This function initializes K centroids that are to be\n",
    "    used in K-Means on the dataset X\n",
    "\n",
    "    Args:\n",
    "        X (ndarray): Data points\n",
    "        K (int):     number of centroids/clusters\n",
    "\n",
    "    Returns:\n",
    "        centroids (ndarray): Initialized centroids\n",
    "    \"\"\"\n",
    "\n",
    "    # Randomly reorder the indices of examples\n",
    "    randidx = np.random.permutation(X.shape[0])\n",
    "\n",
    "    # Take the first K examples as centroids\n",
    "    centroids = X[randidx[:K]]\n",
    "\n",
    "    return centroids"
   ],
   "metadata": {
    "collapsed": false,
    "pycharm": {
     "name": "#%%\n"
    }
   }
  },
  {
   "cell_type": "code",
   "execution_count": 62,
   "outputs": [
    {
     "name": "stdout",
     "output_type": "stream",
     "text": [
      "[1 1 1 1 1 2 2 2 2 1 4 2 2 4 0 2 2 2 2 2 2 2 3 3 3 4 4 3 4 3 4 3 4 0 0 0 0\n",
      " 0 0 1 0 0 0 1 4 3 4 3 3 3 3 0 4 3 3]\n"
     ]
    }
   ],
   "source": [
    "K = 5\n",
    "initial_centroids = kMeans_init_centroids(X, K)\n",
    "\n",
    "iterations = 200\n",
    "\n",
    "idx, centroids = k_means(X, initial_centroids, iterations)\n",
    "print(idx[:5500:100])"
   ],
   "metadata": {
    "collapsed": false,
    "pycharm": {
     "name": "#%%\n"
    }
   }
  },
  {
   "cell_type": "code",
   "execution_count": 63,
   "outputs": [
    {
     "data": {
      "text/plain": "<matplotlib.image.AxesImage at 0x2605eed4cd0>"
     },
     "execution_count": 63,
     "metadata": {},
     "output_type": "execute_result"
    },
    {
     "data": {
      "text/plain": "<Figure size 640x480 with 1 Axes>",
      "image/png": "[encoded data removed]"
     },
     "metadata": {},
     "output_type": "display_data"
    }
   ],
   "source": [
    "test = 1\n",
    "img_test = X[idx == test]\n",
    "n = len(img_test)\n",
    "i = int(n / 5)\n",
    "plt.imshow(img_test[0].reshape(16,16))"
   ],
   "metadata": {
    "collapsed": false,
    "pycharm": {
     "name": "#%%\n"
    }
   }
  },
  {
   "cell_type": "code",
   "execution_count": 64,
   "outputs": [
    {
     "data": {
      "text/plain": "<matplotlib.image.AxesImage at 0x2605ef4da50>"
     },
     "execution_count": 64,
     "metadata": {},
     "output_type": "execute_result"
    },
    {
     "data": {
      "text/plain": "<Figure size 640x480 with 1 Axes>",
      "image/png": "[encoded data removed]"
     },
     "metadata": {},
     "output_type": "display_data"
    }
   ],
   "source": [
    "plt.imshow(img_test[2 * i].reshape(16,16))"
   ],
   "metadata": {
    "collapsed": false,
    "pycharm": {
     "name": "#%%\n"
    }
   }
  },
  {
   "cell_type": "code",
   "execution_count": 65,
   "outputs": [
    {
     "data": {
      "text/plain": "<matplotlib.image.AxesImage at 0x2605c7f5f60>"
     },
     "execution_count": 65,
     "metadata": {},
     "output_type": "execute_result"
    },
    {
     "data": {
      "text/plain": "<Figure size 640x480 with 1 Axes>",
      "image/png": "[encoded data removed]"
     },
     "metadata": {},
     "output_type": "display_data"
    }
   ],
   "source": [
    "plt.imshow(img_test[3 * i].reshape(16,16))"
   ],
   "metadata": {
    "collapsed": false,
    "pycharm": {
     "name": "#%%\n"
    }
   }
  },
  {
   "cell_type": "code",
   "execution_count": 66,
   "outputs": [
    {
     "data": {
      "text/plain": "<matplotlib.image.AxesImage at 0x2605c86ded0>"
     },
     "execution_count": 66,
     "metadata": {},
     "output_type": "execute_result"
    },
    {
     "data": {
      "text/plain": "<Figure size 640x480 with 1 Axes>",
      "image/png": "[encoded data removed]"
     },
     "metadata": {},
     "output_type": "display_data"
    }
   ],
   "source": [
    "plt.imshow(img_test[4 * i].reshape(16,16))"
   ],
   "metadata": {
    "collapsed": false,
    "pycharm": {
     "name": "#%%\n"
    }
   }
  },
  {
   "cell_type": "code",
   "execution_count": 67,
   "outputs": [
    {
     "data": {
      "text/plain": "<matplotlib.image.AxesImage at 0x2605f103310>"
     },
     "execution_count": 67,
     "metadata": {},
     "output_type": "execute_result"
    },
    {
     "data": {
      "text/plain": "<Figure size 640x480 with 1 Axes>",
      "image/png": "[encoded data removed]"
     },
     "metadata": {},
     "output_type": "display_data"
    }
   ],
   "source": [
    "plt.imshow(img_test[i - 1].reshape(16,16))"
   ],
   "metadata": {
    "collapsed": false,
    "pycharm": {
     "name": "#%%\n"
    }
   }
  },
  {
   "cell_type": "code",
   "execution_count": 67,
   "outputs": [],
   "source": [],
   "metadata": {
    "collapsed": false,
    "pycharm": {
     "name": "#%%\n"
    }
   }
  },
  {
   "cell_type": "code",
   "execution_count": null,
   "outputs": [],
   "source": [],
   "metadata": {
    "collapsed": false,
    "pycharm": {
     "name": "#%%\n"
    }
   }
  }
 ],
 "metadata": {
  "kernelspec": {
   "display_name": "Python 3",
   "language": "python",
   "name": "python3"
  },
  "language_info": {
   "codemirror_mode": {
    "name": "ipython",
    "version": 2
   },
   "file_extension": ".py",
   "mimetype": "text/x-python",
   "name": "python",
   "nbconvert_exporter": "python",
   "pygments_lexer": "ipython2",
   "version": "2.7.6"
  }
 },
 "nbformat": 4,
 "nbformat_minor": 0
}